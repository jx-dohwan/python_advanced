{
  "nbformat": 4,
  "nbformat_minor": 0,
  "metadata": {
    "colab": {
      "provenance": [],
      "include_colab_link": true
    },
    "kernelspec": {
      "name": "python3",
      "display_name": "Python 3"
    }
  },
  "cells": [
    {
      "cell_type": "markdown",
      "metadata": {
        "id": "view-in-github",
        "colab_type": "text"
      },
      "source": [
        "<a href=\"https://colab.research.google.com/github/jx-dohwan/python_advanced/blob/master/09_%EB%AA%A8%EB%93%88%EA%B3%BC_%ED%8C%A8%ED%82%A4%EC%A7%80.ipynb\" target=\"_parent\"><img src=\"https://colab.research.google.com/assets/colab-badge.svg\" alt=\"Open In Colab\"/></a>"
      ]
    },
    {
      "cell_type": "markdown",
      "metadata": {
        "id": "bg5ZXMV2sn1M"
      },
      "source": [
        "# 모듈과 패키지"
      ]
    },
    {
      "cell_type": "markdown",
      "source": [
        "## 모듈(Module)\n",
        "- 함수, 변수 그리고 클래스의 집합\n",
        "- 다른 파이썬 프로그램에서 가져와 사용할 수 있는 파이썬 파일\n",
        "- 파이썬에는 다른 사람들이 만들어 놓은 모듈이 굉장히 많음\n",
        "- 사용자가 모듈은 직접 만들어서 사용할 수도 있음\n",
        "\n",
        "## 모듈의 장점\n",
        "- 단순성(Simplicity)\n",
        "  - 전체 문제에 초점을 맞추기보다는 문제의 상대적으로 작은 부분에만 초점을 맞춤\n",
        "  - 단일 모듈로 작업할 수 있는 작은 도메인\n",
        "  - 개발이 쉬우며 오류 발생이 적음\n",
        "- 유지보수성(Maintainability)\n",
        "  - 일반적으로 모듈은 서로 다른 문제 영역간에 논맂거 경계를 설정하도록 설계\n",
        "  - 상호 의존성을 최소화하는 방식으로 모듈을 작성하여 단일 모듈을 수정하면 프로그램의 다른 부분에 영향을 미칠 가능성이 줄어듬\n",
        "  - 모듈 외부의 응용 프로그램에 대해 전혀 알지 못해도 모듈을 변경할 수 있음\n",
        "  - 개발팀의 대규모 응용 프로그램에서 공동으로 작업할 수 있음\n",
        "- 재사용성(Reusability)\n",
        "  - 단일 모듈에서 정의된 기능은 응용 프로그램의 다른 부분에서(적절히 정의된 인터페이스를 통해)쉽게 재사용 가능\n",
        "  - 중복 코드를 만들 필요가 없음\n",
        "- 범위 지정(Scoping)\n",
        "  - 일반적으로 모듈은 프로그램의 여러 영역에서 식별자 간의 충돌을 피하는 데 도움이 되는 별도의 네임 스페이스를 정의"
      ],
      "metadata": {
        "id": "-BS7gkaeKRA4"
      }
    },
    {
      "cell_type": "markdown",
      "source": [
        "## 모듈의 종류\n",
        "- 사용자 정의 모듈\n",
        "- 표준 모듈\n",
        "- 서드 파티 모듈"
      ],
      "metadata": {
        "id": "EX0hfXVrLPb4"
      }
    },
    {
      "cell_type": "markdown",
      "metadata": {
        "id": "Lj_iZPKnCRP0"
      },
      "source": [
        "\n",
        "\n",
        "---\n",
        "\n"
      ]
    },
    {
      "cell_type": "markdown",
      "metadata": {
        "id": "bO6PBIYbZZ_4"
      },
      "source": [
        "### 사용자 정의 모듈\n",
        "\n",
        "* 사용자가 사용할 모듈을 직접 정의\n",
        "* 모듈 이름으로 파일명을 사용\n",
        "\n",
        "\n",
        "- ipynb 내장 매직 명령어(magic command)사용\n",
        "  - %%writefile : 셀의 코드를 .pu파이썬 코드 파일로 저장\n",
        "  - %load : 파이썬 코드 파일 불러오기\n",
        "  - %run : 파이썬 코드 파일 실행"
      ]
    },
    {
      "cell_type": "code",
      "metadata": {
        "id": "CWZ8iKl6ap99",
        "colab": {
          "base_uri": "https://localhost:8080/"
        },
        "outputId": "b0aa08f6-24fa-4ef2-b64e-57669c3e4986"
      },
      "source": [
        "%%writefile Module.py\n",
        "\n",
        "def func1(): \n",
        "  print(\"Module.py: func1()\")\n",
        "\n",
        "def func2(): \n",
        "  print(\"Module.py: func2()\")\n",
        "\n",
        "def func3(): \n",
        "  print(\"Module.py: func3()\")\n"
      ],
      "execution_count": null,
      "outputs": [
        {
          "output_type": "stream",
          "name": "stdout",
          "text": [
            "Writing Module.py\n"
          ]
        }
      ]
    },
    {
      "cell_type": "code",
      "metadata": {
        "id": "e-nLDjHWb1mX",
        "colab": {
          "base_uri": "https://localhost:8080/"
        },
        "outputId": "0015e907-65fa-4a85-c7e1-6a4e2de02e17"
      },
      "source": [
        "!ls"
      ],
      "execution_count": null,
      "outputs": [
        {
          "output_type": "stream",
          "name": "stdout",
          "text": [
            "Module.py  sample_data\n"
          ]
        }
      ]
    },
    {
      "cell_type": "code",
      "metadata": {
        "id": "bQcfKftxb9uR"
      },
      "source": [
        "%load Module.py"
      ],
      "execution_count": null,
      "outputs": []
    },
    {
      "cell_type": "code",
      "metadata": {
        "id": "bKlMMA4-cFVA"
      },
      "source": [
        "%run Module.py"
      ],
      "execution_count": null,
      "outputs": []
    },
    {
      "cell_type": "code",
      "metadata": {
        "id": "qsFSyO7scm1d",
        "colab": {
          "base_uri": "https://localhost:8080/"
        },
        "outputId": "f4fb9a24-c33d-4f05-e32b-1540e81f9df7"
      },
      "source": [
        "import Module\n",
        "Module.func1()\n",
        "Module.func2()\n",
        "Module.func3()"
      ],
      "execution_count": null,
      "outputs": [
        {
          "output_type": "stream",
          "name": "stdout",
          "text": [
            "Module.py: func1()\n",
            "Module.py: func2()\n",
            "Module.py: func3()\n"
          ]
        }
      ]
    },
    {
      "cell_type": "code",
      "metadata": {
        "id": "d2HOXB12DoqK",
        "colab": {
          "base_uri": "https://localhost:8080/"
        },
        "outputId": "8e54b2c7-6988-4bda-9967-e5714e5bbd3f"
      },
      "source": [
        "from Module import *\n",
        "func1()\n",
        "func2()\n",
        "func3()"
      ],
      "execution_count": null,
      "outputs": [
        {
          "output_type": "stream",
          "name": "stdout",
          "text": [
            "Module.py: func1()\n",
            "Module.py: func2()\n",
            "Module.py: func3()\n"
          ]
        }
      ]
    },
    {
      "cell_type": "markdown",
      "metadata": {
        "id": "3sK8A00OD0wu"
      },
      "source": [
        "#### [Lab] 계산기 모듈 만들기\n",
        "\n",
        "* 사용자 정의 모듈을 이용해서 계산기에 필요한 기능들로 모듈 만들기"
      ]
    },
    {
      "cell_type": "code",
      "metadata": {
        "id": "r7UW1sFYD-fs",
        "colab": {
          "base_uri": "https://localhost:8080/"
        },
        "outputId": "e372c351-a161-419f-eb45-e4eea513cf13"
      },
      "source": [
        "%%writefile Calculator.py\n",
        "def add(a,b):\n",
        "  return a+b\n",
        "\n",
        "def sub(a,b):\n",
        "  return a-b\n",
        "\n",
        "def mul(a,b):\n",
        "  return a*b\n",
        "\n",
        "def div(a,b):\n",
        "  return a/b\n",
        "\n",
        "def mod(a,b):\n",
        "  return a%b"
      ],
      "execution_count": null,
      "outputs": [
        {
          "output_type": "stream",
          "name": "stdout",
          "text": [
            "Writing Calculator.py\n"
          ]
        }
      ]
    },
    {
      "cell_type": "code",
      "metadata": {
        "id": "QUKdcfj7Em7-",
        "colab": {
          "base_uri": "https://localhost:8080/"
        },
        "outputId": "aa82cb58-a789-47c5-8397-397e696b6ee1"
      },
      "source": [
        "from Calculator import *\n",
        "\n",
        "print(add(3,5))\n",
        "print(sub(3,5))\n",
        "print(mul(3,5))\n",
        "print(div(3,5))\n",
        "print(mod(3,5))"
      ],
      "execution_count": null,
      "outputs": [
        {
          "output_type": "stream",
          "name": "stdout",
          "text": [
            "8\n",
            "-2\n",
            "15\n",
            "0.6\n",
            "3\n"
          ]
        }
      ]
    },
    {
      "cell_type": "markdown",
      "metadata": {
        "id": "0pHAl9UoZfu6"
      },
      "source": [
        "\n",
        "\n",
        "---\n",
        "\n"
      ]
    },
    {
      "cell_type": "markdown",
      "metadata": {
        "id": "ZkEj_NrE56Xf"
      },
      "source": [
        "### 파이썬 표준 모듈\n",
        "\n",
        "* 파이썬에서 기본으로 내장된 유용한 속성과 함수들이 많음"
      ]
    },
    {
      "cell_type": "code",
      "metadata": {
        "id": "vPxFygaF6KT-",
        "colab": {
          "base_uri": "https://localhost:8080/"
        },
        "outputId": "5f655bcf-7868-4484-cc38-09f33e88ad73"
      },
      "source": [
        "import sys\n",
        "print(sys.builtin_module_names)"
      ],
      "execution_count": null,
      "outputs": [
        {
          "output_type": "stream",
          "name": "stdout",
          "text": [
            "('_abc', '_ast', '_bisect', '_blake2', '_codecs', '_collections', '_csv', '_datetime', '_elementtree', '_functools', '_heapq', '_imp', '_io', '_locale', '_md5', '_operator', '_pickle', '_posixsubprocess', '_random', '_sha1', '_sha256', '_sha3', '_sha512', '_signal', '_socket', '_sre', '_stat', '_statistics', '_string', '_struct', '_symtable', '_thread', '_tracemalloc', '_warnings', '_weakref', 'array', 'atexit', 'binascii', 'builtins', 'cmath', 'errno', 'faulthandler', 'fcntl', 'gc', 'grp', 'itertools', 'marshal', 'math', 'posix', 'pwd', 'pyexpat', 'select', 'spwd', 'sys', 'syslog', 'time', 'unicodedata', 'xxsubtype', 'zlib')\n"
          ]
        }
      ]
    },
    {
      "cell_type": "code",
      "metadata": {
        "id": "E6pcvOoT6loa",
        "colab": {
          "base_uri": "https://localhost:8080/"
        },
        "outputId": "88b5eedc-8425-46ef-d7ed-3c8ffa896395"
      },
      "source": [
        "print(dir(__builtins__))"
      ],
      "execution_count": null,
      "outputs": [
        {
          "output_type": "stream",
          "name": "stdout",
          "text": [
            "['ArithmeticError', 'AssertionError', 'AttributeError', 'BaseException', 'BlockingIOError', 'BrokenPipeError', 'BufferError', 'BytesWarning', 'ChildProcessError', 'ConnectionAbortedError', 'ConnectionError', 'ConnectionRefusedError', 'ConnectionResetError', 'DeprecationWarning', 'EOFError', 'Ellipsis', 'EnvironmentError', 'Exception', 'False', 'FileExistsError', 'FileNotFoundError', 'FloatingPointError', 'FutureWarning', 'GeneratorExit', 'IOError', 'ImportError', 'ImportWarning', 'IndentationError', 'IndexError', 'InterruptedError', 'IsADirectoryError', 'KeyError', 'KeyboardInterrupt', 'LookupError', 'MemoryError', 'ModuleNotFoundError', 'NameError', 'None', 'NotADirectoryError', 'NotImplemented', 'NotImplementedError', 'OSError', 'OverflowError', 'PendingDeprecationWarning', 'PermissionError', 'ProcessLookupError', 'RecursionError', 'ReferenceError', 'ResourceWarning', 'RuntimeError', 'RuntimeWarning', 'StopAsyncIteration', 'StopIteration', 'SyntaxError', 'SyntaxWarning', 'SystemError', 'SystemExit', 'TabError', 'TimeoutError', 'True', 'TypeError', 'UnboundLocalError', 'UnicodeDecodeError', 'UnicodeEncodeError', 'UnicodeError', 'UnicodeTranslateError', 'UnicodeWarning', 'UserWarning', 'ValueError', 'Warning', 'ZeroDivisionError', '__IPYTHON__', '__build_class__', '__debug__', '__doc__', '__import__', '__loader__', '__name__', '__package__', '__spec__', 'abs', 'all', 'any', 'ascii', 'bin', 'bool', 'breakpoint', 'bytearray', 'bytes', 'callable', 'chr', 'classmethod', 'compile', 'complex', 'copyright', 'credits', 'delattr', 'dict', 'dir', 'display', 'divmod', 'enumerate', 'eval', 'exec', 'execfile', 'filter', 'float', 'format', 'frozenset', 'get_ipython', 'getattr', 'globals', 'hasattr', 'hash', 'help', 'hex', 'id', 'input', 'int', 'isinstance', 'issubclass', 'iter', 'len', 'license', 'list', 'locals', 'map', 'max', 'memoryview', 'min', 'next', 'object', 'oct', 'open', 'ord', 'pow', 'print', 'property', 'range', 'repr', 'reversed', 'round', 'runfile', 'set', 'setattr', 'slice', 'sorted', 'staticmethod', 'str', 'sum', 'super', 'tuple', 'type', 'vars', 'zip']\n"
          ]
        }
      ]
    },
    {
      "cell_type": "markdown",
      "metadata": {
        "id": "ILtHUW9h6zKi"
      },
      "source": [
        "### 시간 모듈(datetime)\n",
        "\n",
        "* 운영체제가 제공하는 시간 기능을 파이썬에서 사용할 수 있도록 만들어진 모듈\n",
        "* 시간 모듈을 사용하기 위해서는 `import time` 필요"
      ]
    },
    {
      "cell_type": "code",
      "metadata": {
        "id": "MbSkRsQp622D",
        "colab": {
          "base_uri": "https://localhost:8080/"
        },
        "outputId": "83ef2170-4047-41c0-def0-657a922efbff"
      },
      "source": [
        "import time\n",
        "print(dir(time))"
      ],
      "execution_count": null,
      "outputs": [
        {
          "output_type": "stream",
          "name": "stdout",
          "text": [
            "['CLOCK_BOOTTIME', 'CLOCK_MONOTONIC', 'CLOCK_MONOTONIC_RAW', 'CLOCK_PROCESS_CPUTIME_ID', 'CLOCK_REALTIME', 'CLOCK_THREAD_CPUTIME_ID', '_STRUCT_TM_ITEMS', '__doc__', '__loader__', '__name__', '__package__', '__spec__', 'altzone', 'asctime', 'clock_getres', 'clock_gettime', 'clock_gettime_ns', 'clock_settime', 'clock_settime_ns', 'ctime', 'daylight', 'get_clock_info', 'gmtime', 'localtime', 'mktime', 'monotonic', 'monotonic_ns', 'perf_counter', 'perf_counter_ns', 'process_time', 'process_time_ns', 'pthread_getcpuclockid', 'sleep', 'strftime', 'strptime', 'struct_time', 'thread_time', 'thread_time_ns', 'time', 'time_ns', 'timezone', 'tzname', 'tzset']\n"
          ]
        }
      ]
    },
    {
      "cell_type": "markdown",
      "metadata": {
        "id": "z9LVec3hYyqa"
      },
      "source": [
        "* 시간 모듈 `time` 예제"
      ]
    },
    {
      "cell_type": "code",
      "metadata": {
        "id": "DnE8kYXuYzC8",
        "colab": {
          "base_uri": "https://localhost:8080/"
        },
        "outputId": "a04a0754-0eca-43b1-e0c3-3a6764525d0e"
      },
      "source": [
        "import time\n",
        "print(time)\n",
        "print(time.time())\n",
        "print(time.time())\n",
        "print(time.time())\n",
        "\n",
        "now = time.gmtime(time.time())\n",
        "print(now)\n",
        "\n",
        "year = str(now.tm_year)\n",
        "month = str(now.tm_mon)\n",
        "day = str(now.tm_mday)\n",
        "\n",
        "print(year, \"년\", month, '월',day,'일')\n",
        "\n",
        "hour = str(now.tm_hour)\n",
        "minute = str(now.tm_min)\n",
        "sec = str(now.tm_sec)\n",
        "\n",
        "print(hour, \"시\", minute, '분',sec,'초')"
      ],
      "execution_count": null,
      "outputs": [
        {
          "output_type": "stream",
          "name": "stdout",
          "text": [
            "<module 'time' (built-in)>\n",
            "1675309462.24877\n",
            "1675309462.2494268\n",
            "1675309462.2495413\n",
            "time.struct_time(tm_year=2023, tm_mon=2, tm_mday=2, tm_hour=3, tm_min=44, tm_sec=22, tm_wday=3, tm_yday=33, tm_isdst=0)\n",
            "2023 년 2 월 2 일\n",
            "3 시 44 분 22 초\n"
          ]
        }
      ]
    },
    {
      "cell_type": "markdown",
      "metadata": {
        "id": "BbFoAvcKYnOI"
      },
      "source": [
        "* 날짜시간 모듈 `datetime`의 `date` 클래스 예제"
      ]
    },
    {
      "cell_type": "code",
      "metadata": {
        "id": "RvkSO1yhYs5W",
        "colab": {
          "base_uri": "https://localhost:8080/"
        },
        "outputId": "d81a5975-3519-4705-a368-5ed66e966329"
      },
      "source": [
        "from datetime import date\n",
        "print(date)\n",
        "print(date(2023,1,1))\n",
        "print(date(year=2023,month=1,day=1))\n",
        "print(date.today())\n",
        "\n",
        "today = date.today()\n",
        "year = str(today.year)\n",
        "month = str(today.month)\n",
        "day = str(today.day)\n",
        "weekday = \"월화수목금토일\"[today.weekday()]\n",
        "print(year+\"년\",month+\"월\",day+\"일\",weekday+\"요일\")"
      ],
      "execution_count": null,
      "outputs": [
        {
          "output_type": "stream",
          "name": "stdout",
          "text": [
            "<class 'datetime.date'>\n",
            "2023-01-01\n",
            "2023-01-01\n",
            "2023-02-02\n",
            "2023년 2월 2일 목요일\n"
          ]
        }
      ]
    },
    {
      "cell_type": "markdown",
      "metadata": {
        "id": "MYSooRuLaOym"
      },
      "source": [
        "* 날짜시간 모듈 `datetime`의 `time` 클래스 예제"
      ]
    },
    {
      "cell_type": "code",
      "metadata": {
        "id": "qSF7YJg_aPHn",
        "colab": {
          "base_uri": "https://localhost:8080/"
        },
        "outputId": "d9679d5f-c3e4-4b78-d4dd-d078ebf990a9"
      },
      "source": [
        "from datetime import time\n",
        "print(time)\n",
        "print(time(12,0))\n",
        "print(time(14,30))\n",
        "print(time(16,30,45))\n",
        "print(time(18,00,15,100000))\n",
        "\n",
        "now = time(20, 40, 15, 20000)\n",
        "hour = str(now.hour)\n",
        "minute = str(now.minute)\n",
        "sec = str(now.second)\n",
        "msec = str(now.microsecond)\n",
        "print(hour + \"시\", minute+\"분\", sec+\"초\",msec+\"마이크로초\")"
      ],
      "execution_count": null,
      "outputs": [
        {
          "output_type": "stream",
          "name": "stdout",
          "text": [
            "<class 'datetime.time'>\n",
            "12:00:00\n",
            "14:30:00\n",
            "16:30:45\n",
            "18:00:15.100000\n",
            "20시 40분 15초 20000마이크로초\n"
          ]
        }
      ]
    },
    {
      "cell_type": "markdown",
      "metadata": {
        "id": "sdtzTp5tlqSb"
      },
      "source": [
        "* 날짜시간 모듈 `datetime`의 `datetime` 클래스 예제\n",
        "* 날짜시간을 문자열로 표현하기 위한 `strftime()` 메소드 예제"
      ]
    },
    {
      "cell_type": "code",
      "metadata": {
        "id": "mlwwukrqlsKn",
        "colab": {
          "base_uri": "https://localhost:8080/"
        },
        "outputId": "78775a6e-2a68-4740-99e0-1ecc99ae1b1a"
      },
      "source": [
        "from datetime import datetime\n",
        "print(datetime)\n",
        "print(datetime(2023,1,1))\n",
        "print(datetime(2023,1,1,1,15,34))\n",
        "print(datetime.now())\n",
        "now = datetime.now()\n",
        "print(now.strftime('%Y년 %m월 %d일 %H시 %M분 %S초'))\n",
        "print(now.strftime('%y/%m/%d %p %l:%M:%S:%f'))"
      ],
      "execution_count": null,
      "outputs": [
        {
          "output_type": "stream",
          "name": "stdout",
          "text": [
            "<class 'datetime.datetime'>\n",
            "2023-01-01 00:00:00\n",
            "2023-01-01 01:15:34\n",
            "2023-02-02 03:56:14.490330\n",
            "2023년 02월 02일 03시 56분 14초\n",
            "23/02/02 AM  3:56:14:490833\n"
          ]
        }
      ]
    },
    {
      "cell_type": "markdown",
      "metadata": {
        "id": "iE13qouhqEGd"
      },
      "source": [
        "#### [Lab] 태어난지 몇 일이 되었는가?\n",
        "\n",
        "* 태어난지 얼마나 지났는지 계산하기"
      ]
    },
    {
      "cell_type": "code",
      "metadata": {
        "id": "LvW2SqpYpXex",
        "colab": {
          "base_uri": "https://localhost:8080/"
        },
        "outputId": "380435d8-674b-4c48-946d-13dfb8ae36a6"
      },
      "source": [
        "from datetime import date\n",
        "birthday = date(2023,1,1)\n",
        "today = date.today()\n",
        "day = today - birthday\n",
        "print(day)"
      ],
      "execution_count": null,
      "outputs": [
        {
          "output_type": "stream",
          "name": "stdout",
          "text": [
            "32 days, 0:00:00\n"
          ]
        }
      ]
    },
    {
      "cell_type": "markdown",
      "metadata": {
        "id": "nl1EYj9c6pTG"
      },
      "source": [
        "### 수학 모듈(math)\n",
        "\n",
        "* 파이썬에서 수학에 필요한 math 모듈 제공\n"
      ]
    },
    {
      "cell_type": "code",
      "metadata": {
        "id": "iwKRg4ZI6sds",
        "colab": {
          "base_uri": "https://localhost:8080/"
        },
        "outputId": "7a0122dd-485c-4ab2-9d47-81f86c841183"
      },
      "source": [
        "import math\n",
        "print(math.factorial(3))\n",
        "print(math.gcd(12,14))\n",
        "print(math.floor(math.pi))\n",
        "print(math.ceil(math.pi))\n",
        "print(math.pow(2,10)) \n",
        "print(math.sqrt(10))\n",
        "print(math.log(10,2))\n",
        "print(math.degrees(math.pi))\n",
        "print(math.radians(180))\n",
        "print(math.sin(math.radians(90)))\n",
        "print(math.cos(math.radians(189)))"
      ],
      "execution_count": null,
      "outputs": [
        {
          "output_type": "stream",
          "name": "stdout",
          "text": [
            "6\n",
            "2\n",
            "3\n",
            "4\n",
            "1024.0\n",
            "3.1622776601683795\n",
            "3.3219280948873626\n",
            "180.0\n",
            "3.141592653589793\n",
            "1.0\n",
            "-0.9876883405951378\n"
          ]
        }
      ]
    },
    {
      "cell_type": "markdown",
      "metadata": {
        "id": "iAbuv-GxzRH0"
      },
      "source": [
        "### 순열과 조합 모듈(itertools)\n",
        "\n",
        "* `itertools` 모듈에서 곱집합, 순열, 조합 등을 구하는 함수 제공\n"
      ]
    },
    {
      "cell_type": "code",
      "metadata": {
        "id": "fG_PztCsz4xk",
        "colab": {
          "base_uri": "https://localhost:8080/"
        },
        "outputId": "722cba08-04b3-4bac-8c4a-b90664bca74c"
      },
      "source": [
        "import itertools\n",
        "list_1 = ['a','b','c']\n",
        "print(list_1)\n",
        "list_2 = [1,2]\n",
        "print(list_2)\n",
        "list_cp = list(itertools.product(list_1, list_2))\n",
        "print(list_cp)\n",
        "list_p = list(itertools.permutations(list_1,2))\n",
        "print(list_p)\n",
        "list_c = list(itertools.combinations(list_1,2))\n",
        "print(list_c)\n",
        "list_cr = list(itertools.combinations_with_replacement(list_1,2))\n",
        "print(list_cr)"
      ],
      "execution_count": null,
      "outputs": [
        {
          "output_type": "stream",
          "name": "stdout",
          "text": [
            "['a', 'b', 'c']\n",
            "[1, 2]\n",
            "[('a', 1), ('a', 2), ('b', 1), ('b', 2), ('c', 1), ('c', 2)]\n",
            "[('a', 'b'), ('a', 'c'), ('b', 'a'), ('b', 'c'), ('c', 'a'), ('c', 'b')]\n",
            "[('a', 'b'), ('a', 'c'), ('b', 'c')]\n",
            "[('a', 'a'), ('a', 'b'), ('a', 'c'), ('b', 'b'), ('b', 'c'), ('c', 'c')]\n"
          ]
        }
      ]
    },
    {
      "cell_type": "markdown",
      "metadata": {
        "id": "UNlrNquK2eMg"
      },
      "source": [
        "### 통계 모듈(statistics)\n",
        "\n",
        "* `statistics` 모듈에서는 산술평균, 표준편차 등 통계에 필요한 계산 관련 함수들을 제공\n"
      ]
    },
    {
      "cell_type": "code",
      "metadata": {
        "id": "sqQiNW-k21XJ",
        "colab": {
          "base_uri": "https://localhost:8080/"
        },
        "outputId": "4a80fec2-8505-43cb-f029-74659b5080aa"
      },
      "source": [
        "import statistics\n",
        "values = [56,44,67,47,82,67,92,89,81,82]\n",
        "print(statistics.median(values))\n",
        "print(statistics.mean(values))\n",
        "print(statistics.harmonic_mean(values))\n",
        "print(statistics.stdev(values))\n",
        "print(statistics.variance(values))"
      ],
      "execution_count": null,
      "outputs": [
        {
          "output_type": "stream",
          "name": "stdout",
          "text": [
            "74.0\n",
            "70.7\n",
            "66.42170307761845\n",
            "17.217884758458442\n",
            "296.4555555555556\n"
          ]
        }
      ]
    },
    {
      "cell_type": "markdown",
      "metadata": {
        "id": "nwW2LgNc67u3"
      },
      "source": [
        "### 랜덤 모듈(random)\n",
        "\n",
        "* 랜덤 모듈을 사용하기 위해서는 `import random` 필요"
      ]
    },
    {
      "cell_type": "code",
      "metadata": {
        "id": "PuAbFRsa7IUH",
        "colab": {
          "base_uri": "https://localhost:8080/"
        },
        "outputId": "058d4480-b491-49ba-f366-b74c6c9f7b71"
      },
      "source": [
        "import random\n",
        "print(random.random())\n",
        "print(random.randint(1,10))\n",
        "print(random.randrange(0,10,2))"
      ],
      "execution_count": null,
      "outputs": [
        {
          "output_type": "stream",
          "name": "stdout",
          "text": [
            "0.08433842261159386\n",
            "4\n",
            "6\n"
          ]
        }
      ]
    },
    {
      "cell_type": "code",
      "metadata": {
        "id": "aDz_82bc7qJx",
        "colab": {
          "base_uri": "https://localhost:8080/"
        },
        "outputId": "4c151b76-ffed-4660-c30a-eae0b4791758"
      },
      "source": [
        "li = [10,20,30,40,50]\n",
        "print(li)\n",
        "print(random.choice(li))\n",
        "print(random.sample(li,2))\n",
        "random.shuffle(li)\n",
        "print(li)"
      ],
      "execution_count": null,
      "outputs": [
        {
          "output_type": "stream",
          "name": "stdout",
          "text": [
            "[10, 20, 30, 40, 50]\n",
            "20\n",
            "[30, 20]\n",
            "[20, 40, 10, 50, 30]\n"
          ]
        }
      ]
    },
    {
      "cell_type": "markdown",
      "metadata": {
        "id": "RFMGmK8r79zv"
      },
      "source": [
        "### 네임스페이스(Namespace)\n",
        "\n",
        "* 모듈 호출의 범위 지정\n",
        "* 모듈 이름에 alias를 생성하여 모듈의 이름을 바꿔 사용"
      ]
    },
    {
      "cell_type": "code",
      "metadata": {
        "id": "OmY9T8g68M5J",
        "colab": {
          "base_uri": "https://localhost:8080/"
        },
        "outputId": "bbe6a858-5996-41d5-ee08-53a0fb0f5639"
      },
      "source": [
        "import random as rd\n",
        "\n",
        "print(rd.random())\n",
        "print(rd.randrange(0,10,2))"
      ],
      "execution_count": null,
      "outputs": [
        {
          "output_type": "stream",
          "name": "stdout",
          "text": [
            "0.7261712999217274\n",
            "2\n"
          ]
        }
      ]
    },
    {
      "cell_type": "markdown",
      "metadata": {
        "id": "ijyblqrg8NfX"
      },
      "source": [
        "* from 구문을 사용하여 모듈에서 특정 함수 또는 클래스만 호출"
      ]
    },
    {
      "cell_type": "code",
      "metadata": {
        "id": "YwkdUeaL8PeK",
        "colab": {
          "base_uri": "https://localhost:8080/"
        },
        "outputId": "d1eb87c0-0c9e-4b15-9bdb-8a61dd8a186b"
      },
      "source": [
        "from random import random, randrange\n",
        "\n",
        "print(random())\n",
        "print(randrange(0,10,2))"
      ],
      "execution_count": null,
      "outputs": [
        {
          "output_type": "stream",
          "name": "stdout",
          "text": [
            "0.23909195953856177\n",
            "4\n"
          ]
        }
      ]
    },
    {
      "cell_type": "markdown",
      "metadata": {
        "id": "6jIH8CcK8P9Q"
      },
      "source": [
        "* '*'을 사용하여 모듈 안에 모든 함수, 클래스, 변수를 가져옴"
      ]
    },
    {
      "cell_type": "code",
      "metadata": {
        "id": "NdCD7wxF8Rpj"
      },
      "source": [
        "from random import *"
      ],
      "execution_count": null,
      "outputs": []
    },
    {
      "cell_type": "markdown",
      "metadata": {
        "id": "qQc_0nwV1YyE"
      },
      "source": [
        "## 패키지(Packages)\n",
        "- 패키지는 모듈의 집합\n",
        "- 패키지 안에 여러 모듈이 존재\n",
        "- 모듈을 주제별로 분히할 때 사용\n",
        "- 디렉터리와 같이 계층적인 구조로 관리\n",
        "- 모듈들이 서로 포함 관계를 가지며 거대한 패키지를 가짐\n",
        "- 파치썬에서는 패키지가 하나의 라이브러리"
      ]
    },
    {
      "cell_type": "code",
      "metadata": {
        "id": "jekuqE1NI0mJ"
      },
      "source": [
        "!mkdir package\n",
        "!mkdir package/sub_package_1\n",
        "!mkdir package/sub_package_2\n",
        "!mkdir package/sub_package_3\n"
      ],
      "execution_count": null,
      "outputs": []
    },
    {
      "cell_type": "code",
      "metadata": {
        "id": "bPz0apRgJSJ-",
        "colab": {
          "base_uri": "https://localhost:8080/"
        },
        "outputId": "8fc75ba1-05ee-41d6-d4e8-12c3cf840434"
      },
      "source": [
        "!ls package"
      ],
      "execution_count": null,
      "outputs": [
        {
          "output_type": "stream",
          "name": "stdout",
          "text": [
            "sub_package_1  sub_package_2  sub_package_3\n"
          ]
        }
      ]
    },
    {
      "cell_type": "code",
      "metadata": {
        "id": "Z39w6vP1Jnuu",
        "colab": {
          "base_uri": "https://localhost:8080/"
        },
        "outputId": "5adf1936-1b64-4fa9-a762-ca558f81dfdc"
      },
      "source": [
        "%%writefile package/sub_package_1/sub1_module_1.py\n",
        "def print_module():\n",
        "  print(\"sub_package_1/sub1_module_1\")"
      ],
      "execution_count": null,
      "outputs": [
        {
          "output_type": "stream",
          "name": "stdout",
          "text": [
            "Writing package/sub_package_1/sub1_module_1.py\n"
          ]
        }
      ]
    },
    {
      "cell_type": "code",
      "metadata": {
        "id": "6U6AkKypKILn",
        "colab": {
          "base_uri": "https://localhost:8080/"
        },
        "outputId": "93a5fea0-aace-40ad-c703-d09ed76b9bce"
      },
      "source": [
        "%%writefile package/sub_package_2/sub2_module_1.py\n",
        "def print_module():\n",
        "  print(\"sub_package_2/sub2_module_1\")"
      ],
      "execution_count": null,
      "outputs": [
        {
          "output_type": "stream",
          "name": "stdout",
          "text": [
            "Writing package/sub_package_2/sub2_module_1.py\n"
          ]
        }
      ]
    },
    {
      "cell_type": "code",
      "metadata": {
        "id": "RSuJJKzvKKx6",
        "colab": {
          "base_uri": "https://localhost:8080/"
        },
        "outputId": "9e6395eb-de13-4cf2-c571-8969b9495ea5"
      },
      "source": [
        "%%writefile package/sub_package_3/sub3_module_1.py\n",
        "def print_module():\n",
        "  print(\"sub_package_3/sub3_module_1\")"
      ],
      "execution_count": null,
      "outputs": [
        {
          "output_type": "stream",
          "name": "stdout",
          "text": [
            "Writing package/sub_package_3/sub3_module_1.py\n"
          ]
        }
      ]
    },
    {
      "cell_type": "code",
      "metadata": {
        "id": "BhqpvBAXKNGo",
        "colab": {
          "base_uri": "https://localhost:8080/"
        },
        "outputId": "10538c56-9ed5-48ae-a04d-b081ccda97fa"
      },
      "source": [
        "%%writefile package/sub_package_1/sub1_module_2.py\n",
        "def print_module():\n",
        "  print(\"sub_package_1/sub1_module_2\")"
      ],
      "execution_count": null,
      "outputs": [
        {
          "output_type": "stream",
          "name": "stdout",
          "text": [
            "Writing package/sub_package_1/sub1_module_2.py\n"
          ]
        }
      ]
    },
    {
      "cell_type": "code",
      "metadata": {
        "id": "mRe1x_7XKORQ",
        "colab": {
          "base_uri": "https://localhost:8080/"
        },
        "outputId": "ac8599b5-8b9a-4d32-e524-c4d654c55a9d"
      },
      "source": [
        "%%writefile package/sub_package_2/sub2_module_2.py\n",
        "def print_module():\n",
        "  print(\"sub_package_2/sub2_module_2\")"
      ],
      "execution_count": null,
      "outputs": [
        {
          "output_type": "stream",
          "name": "stdout",
          "text": [
            "Writing package/sub_package_2/sub2_module_2.py\n"
          ]
        }
      ]
    },
    {
      "cell_type": "code",
      "metadata": {
        "id": "8kQUk7O0KP3w",
        "colab": {
          "base_uri": "https://localhost:8080/"
        },
        "outputId": "5d9bbe0f-d035-4f42-8858-18e8b01d1d87"
      },
      "source": [
        "%%writefile package/sub_package_3/sub3_module_2.py\n",
        "def print_module():\n",
        "  print(\"sub_package_3/sub3_module_2\")"
      ],
      "execution_count": null,
      "outputs": [
        {
          "output_type": "stream",
          "name": "stdout",
          "text": [
            "Writing package/sub_package_3/sub3_module_2.py\n"
          ]
        }
      ]
    },
    {
      "cell_type": "markdown",
      "metadata": {
        "id": "wljVmXlNIrvv"
      },
      "source": [
        "### 패키지 실행\n",
        "\n",
        "* 정의한 패키지의 모듈 실행"
      ]
    },
    {
      "cell_type": "code",
      "metadata": {
        "id": "3yew_JCLMsp7",
        "colab": {
          "base_uri": "https://localhost:8080/"
        },
        "outputId": "a22b5d14-e5a6-4f44-de1c-47407f4b1960"
      },
      "source": [
        "from package.sub_package_1 import sub1_module_1, sub1_module_2\n",
        "sub1_module_1.print_module()\n",
        "sub1_module_2.print_module()"
      ],
      "execution_count": null,
      "outputs": [
        {
          "output_type": "stream",
          "name": "stdout",
          "text": [
            "sub_package_1/sub1_module_1\n",
            "sub_package_1/sub1_module_2\n"
          ]
        }
      ]
    },
    {
      "cell_type": "code",
      "metadata": {
        "id": "vkRbKEa8NOmh",
        "colab": {
          "base_uri": "https://localhost:8080/"
        },
        "outputId": "47997823-e38b-4f8f-f545-7595ce56c3c5"
      },
      "source": [
        "from package.sub_package_2 import sub2_module_1, sub2_module_2\n",
        "sub2_module_1.print_module()\n",
        "sub2_module_2.print_module()"
      ],
      "execution_count": null,
      "outputs": [
        {
          "output_type": "stream",
          "name": "stdout",
          "text": [
            "sub_package_2/sub2_module_1\n",
            "sub_package_2/sub2_module_2\n"
          ]
        }
      ]
    },
    {
      "cell_type": "code",
      "metadata": {
        "id": "3d0daVmONRBT",
        "colab": {
          "base_uri": "https://localhost:8080/"
        },
        "outputId": "346cd704-6ad3-42ac-e4a8-be547ae9a149"
      },
      "source": [
        "from package.sub_package_3 import sub3_module_1, sub3_module_2\n",
        "sub3_module_1.print_module()\n",
        "sub3_module_2.print_module()"
      ],
      "execution_count": null,
      "outputs": [
        {
          "output_type": "stream",
          "name": "stdout",
          "text": [
            "sub_package_3/sub3_module_1\n",
            "sub_package_3/sub3_module_2\n"
          ]
        }
      ]
    },
    {
      "cell_type": "code",
      "metadata": {
        "id": "Dy0EJOccNrrS",
        "colab": {
          "base_uri": "https://localhost:8080/"
        },
        "outputId": "9787966c-6318-476a-eb85-8f782045b6b5"
      },
      "source": [
        "from package import *\n",
        "sub1_module_1.print_module()\n",
        "sub1_module_2.print_module()\n",
        "sub2_module_1.print_module()\n",
        "sub2_module_2.print_module()\n",
        "sub3_module_1.print_module()\n",
        "sub3_module_2.print_module()"
      ],
      "execution_count": null,
      "outputs": [
        {
          "output_type": "stream",
          "name": "stdout",
          "text": [
            "sub_package_1/sub1_module_1\n",
            "sub_package_1/sub1_module_2\n",
            "sub_package_2/sub2_module_1\n",
            "sub_package_2/sub2_module_2\n",
            "sub_package_3/sub3_module_1\n",
            "sub_package_3/sub3_module_2\n"
          ]
        }
      ]
    },
    {
      "cell_type": "markdown",
      "metadata": {
        "id": "CrmBC32pe2Ag"
      },
      "source": [
        "### 패키지 구성 파일\n",
        "\n",
        "* \\_\\_init\\_\\_.py\n"
      ]
    },
    {
      "cell_type": "code",
      "metadata": {
        "id": "S80DN-P9IYKw",
        "colab": {
          "base_uri": "https://localhost:8080/"
        },
        "outputId": "b382f72a-bedd-4feb-d863-d7e99ab2fe9f"
      },
      "source": [
        "%%writefile package/__init__.py\n",
        "__all__ = ['sub_package_1', 'sub_package_2', 'sub_package_3']"
      ],
      "execution_count": null,
      "outputs": [
        {
          "output_type": "stream",
          "name": "stdout",
          "text": [
            "Writing package/__init__.py\n"
          ]
        }
      ]
    },
    {
      "cell_type": "code",
      "metadata": {
        "id": "T_Lv285gPt_4",
        "colab": {
          "base_uri": "https://localhost:8080/"
        },
        "outputId": "2e7ed03a-c59f-49b5-d090-1b522ec00933"
      },
      "source": [
        "%%writefile package/sub_package_1/__init__.py\n",
        "__all__ = ['sub1_module_1', 'sub1_module_2']"
      ],
      "execution_count": null,
      "outputs": [
        {
          "output_type": "stream",
          "name": "stdout",
          "text": [
            "Writing package/sub_package_1/__init__.py\n"
          ]
        }
      ]
    },
    {
      "cell_type": "code",
      "metadata": {
        "id": "MWb5eNCAP56o",
        "colab": {
          "base_uri": "https://localhost:8080/"
        },
        "outputId": "d846f7db-562c-4152-b637-8f55abeb91b2"
      },
      "source": [
        "%%writefile package/sub_package_2/__init__.py\n",
        "__all__ = ['sub2_module_1', 'sub2_module_2']"
      ],
      "execution_count": null,
      "outputs": [
        {
          "output_type": "stream",
          "name": "stdout",
          "text": [
            "Writing package/sub_package_2/__init__.py\n"
          ]
        }
      ]
    },
    {
      "cell_type": "code",
      "metadata": {
        "id": "EvYOqe0KP6de",
        "colab": {
          "base_uri": "https://localhost:8080/"
        },
        "outputId": "fd8decf5-26dd-46f0-cd56-61359b5ea09c"
      },
      "source": [
        "%%writefile package/sub_package_3/__init__.py\n",
        "__all__ = ['sub3_module_1', 'sub3_module_2']"
      ],
      "execution_count": null,
      "outputs": [
        {
          "output_type": "stream",
          "name": "stdout",
          "text": [
            "Writing package/sub_package_3/__init__.py\n"
          ]
        }
      ]
    },
    {
      "cell_type": "code",
      "metadata": {
        "id": "t47pORCoP_Ks",
        "colab": {
          "base_uri": "https://localhost:8080/"
        },
        "outputId": "58df8312-a77b-4f83-fb89-04ffdca1e611"
      },
      "source": [
        "!ls package"
      ],
      "execution_count": null,
      "outputs": [
        {
          "output_type": "stream",
          "name": "stdout",
          "text": [
            "__init__.py  sub_package_1  sub_package_2  sub_package_3\n"
          ]
        }
      ]
    },
    {
      "cell_type": "code",
      "metadata": {
        "id": "FygAt2laQDes",
        "colab": {
          "base_uri": "https://localhost:8080/"
        },
        "outputId": "d5e86283-87b6-4d21-dfc0-dc7aa873a532"
      },
      "source": [
        "!ls package/sub_package_1"
      ],
      "execution_count": null,
      "outputs": [
        {
          "output_type": "stream",
          "name": "stdout",
          "text": [
            "__init__.py  __pycache__  sub1_module_1.py  sub1_module_2.py\n"
          ]
        }
      ]
    },
    {
      "cell_type": "markdown",
      "metadata": {
        "id": "ErE9_A3uPcAJ"
      },
      "source": [
        "\n",
        "* \\_\\_main\\_\\_.py\n",
        "  + 패키지 자체를 실행하기 위한 용도\n",
        "  + 패키지를 실행시키면 \\_\\_main\\_\\_.py 실행"
      ]
    },
    {
      "cell_type": "code",
      "metadata": {
        "id": "jl-y2mT6OTb9",
        "colab": {
          "base_uri": "https://localhost:8080/"
        },
        "outputId": "c0813954-dd42-4e6a-f74e-8e395604f356"
      },
      "source": [
        "%%writefile package/__main__.py\n",
        "from sub_package_1 import *\n",
        "from sub_package_2 import *\n",
        "from sub_package_3 import *\n",
        "\n",
        "if __name__ == '__main__':\n",
        "  sub1_module_1.print_module()\n",
        "  sub1_module_2.print_module()\n",
        "  sub2_module_1.print_module()\n",
        "  sub2_module_2.print_module()\n",
        "  sub3_module_1.print_module()\n",
        "  sub3_module_2.print_module()"
      ],
      "execution_count": null,
      "outputs": [
        {
          "output_type": "stream",
          "name": "stdout",
          "text": [
            "Writing package/__main__.py\n"
          ]
        }
      ]
    },
    {
      "cell_type": "code",
      "metadata": {
        "id": "_leUWfUDNTQZ",
        "colab": {
          "base_uri": "https://localhost:8080/"
        },
        "outputId": "f6e831e1-f716-44de-f492-015c54b13b4d"
      },
      "source": [
        "!python package"
      ],
      "execution_count": null,
      "outputs": [
        {
          "output_type": "stream",
          "name": "stdout",
          "text": [
            "sub_package_1/sub1_module_1\n",
            "sub_package_1/sub1_module_2\n",
            "sub_package_2/sub2_module_1\n",
            "sub_package_2/sub2_module_2\n",
            "sub_package_3/sub3_module_1\n",
            "sub_package_3/sub3_module_2\n"
          ]
        }
      ]
    },
    {
      "cell_type": "markdown",
      "metadata": {
        "id": "H5rv_z4nZg3v"
      },
      "source": [
        "\n",
        "\n",
        "---\n",
        "\n"
      ]
    }
  ]
}